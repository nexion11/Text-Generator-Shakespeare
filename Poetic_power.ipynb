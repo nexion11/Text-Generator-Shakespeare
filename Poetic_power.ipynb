{
  "nbformat": 4,
  "nbformat_minor": 0,
  "metadata": {
    "colab": {
      "provenance": [],
      "gpuType": "T4",
      "authorship_tag": "ABX9TyOeugl8BDuPvXt8KSo8mVuq",
      "include_colab_link": true
    },
    "kernelspec": {
      "name": "python3",
      "display_name": "Python 3"
    },
    "language_info": {
      "name": "python"
    },
    "accelerator": "GPU"
  },
  "cells": [
    {
      "cell_type": "markdown",
      "metadata": {
        "id": "view-in-github",
        "colab_type": "text"
      },
      "source": [
        "<a href=\"https://colab.research.google.com/github/nexion11/Text-Generator-Shakespeare/blob/main/Poetic_power.ipynb\" target=\"_parent\"><img src=\"https://colab.research.google.com/assets/colab-badge.svg\" alt=\"Open In Colab\"/></a>"
      ]
    },
    {
      "cell_type": "code",
      "execution_count": 2,
      "metadata": {
        "id": "zMrst9h-xC44"
      },
      "outputs": [],
      "source": [
        "import tensorflow as tf\n",
        "from tensorflow.keras.preprocessing.text import Tokenizer\n",
        "from tensorflow.keras.preprocessing.sequence import pad_sequences\n",
        "from tensorflow.keras.utils import to_categorical\n",
        "from tensorflow.keras.models import Sequential\n",
        "from tensorflow.keras.layers import Embedding, LSTM, Dense, Dropout\n",
        "import numpy as np\n",
        "import random"
      ]
    },
    {
      "cell_type": "code",
      "source": [
        "\n",
        "# Load and preprocess the text data\n",
        "filepath = tf.keras.utils.get_file('shakespeare.txt', 'https://storage.googleapis.com/download.tensorflow.org/data/shakespeare.txt')\n",
        "text = open(filepath, 'rb').read().decode(encoding='utf-8').lower()\n",
        "text = text[100000:800000]\n",
        "text = text.replace('\\n', ' ').replace('\\r', '').replace('\\t', ' ')\n",
        "text = ''.join(c for c in text if c.isprintable())\n",
        "\n",
        "# Initialize and fit tokenizer\n",
        "tokenizer = Tokenizer(char_level=True)\n",
        "tokenizer.fit_on_texts([text])\n",
        "sequences = tokenizer.texts_to_sequences([text])[0]\n",
        "\n",
        "SEQ_LENGTH = 40\n",
        "STEP_SIZE = 3\n",
        "\n",
        "input_sequences = []\n",
        "next_characters = []\n",
        "\n",
        "for i in range(0, len(sequences) - SEQ_LENGTH, STEP_SIZE):\n",
        "    input_sequences.append(sequences[i: i + SEQ_LENGTH])\n",
        "    next_characters.append(sequences[i + SEQ_LENGTH])\n",
        "\n",
        "input_sequences = np.array(input_sequences)\n",
        "next_characters = np.array(next_characters)\n",
        "\n",
        "print(\"Number of input sequences:\", len(input_sequences))\n",
        "print(\"Number of next characters:\", len(next_characters))\n",
        "\n",
        "# One-hot encode the next characters\n",
        "vocab_size = len(tokenizer.word_index) + 1\n",
        "y = to_categorical(next_characters, num_classes=vocab_size)\n",
        "\n",
        "print(\"Shape of input_sequences:\", input_sequences.shape)\n",
        "print(\"Shape of y:\", y.shape)"
      ],
      "metadata": {
        "colab": {
          "base_uri": "https://localhost:8080/"
        },
        "id": "MooZbnbpxbS7",
        "outputId": "9bb37748-a0a0-404c-85df-b6f98b7b737e"
      },
      "execution_count": 3,
      "outputs": [
        {
          "output_type": "stream",
          "name": "stdout",
          "text": [
            "Downloading data from https://storage.googleapis.com/download.tensorflow.org/data/shakespeare.txt\n",
            "1115394/1115394 [==============================] - 1s 1us/step\n",
            "Number of input sequences: 233320\n",
            "Number of next characters: 233320\n",
            "Shape of input_sequences: (233320, 40)\n",
            "Shape of y: (233320, 39)\n"
          ]
        }
      ]
    },
    {
      "cell_type": "code",
      "source": [
        "# Build the model\n",
        "embedding_dim = 512\n",
        "rnn_units = 512  # Increased number of units in LSTM layers\n",
        "dropout_rate = 0.3  # Adjusted dropout rate\n",
        "\n",
        "model = Sequential([\n",
        "    Embedding(input_dim=vocab_size, output_dim=embedding_dim, input_length=SEQ_LENGTH),\n",
        "    LSTM(rnn_units, return_sequences=True),\n",
        "    Dropout(dropout_rate),\n",
        "    LSTM(rnn_units, return_sequences=True),\n",
        "    Dropout(dropout_rate),\n",
        "    LSTM(rnn_units),\n",
        "    Dense(vocab_size, activation='softmax')\n",
        "])\n",
        "\n",
        "model.compile(optimizer='adam', loss='categorical_crossentropy')\n",
        "model.summary()"
      ],
      "metadata": {
        "colab": {
          "base_uri": "https://localhost:8080/"
        },
        "id": "-90Onxv4e4VL",
        "outputId": "c97dd593-90f0-4f87-afab-b9140312f680"
      },
      "execution_count": 4,
      "outputs": [
        {
          "output_type": "stream",
          "name": "stdout",
          "text": [
            "Model: \"sequential\"\n",
            "_________________________________________________________________\n",
            " Layer (type)                Output Shape              Param #   \n",
            "=================================================================\n",
            " embedding (Embedding)       (None, 40, 512)           19968     \n",
            "                                                                 \n",
            " lstm (LSTM)                 (None, 40, 512)           2099200   \n",
            "                                                                 \n",
            " dropout (Dropout)           (None, 40, 512)           0         \n",
            "                                                                 \n",
            " lstm_1 (LSTM)               (None, 40, 512)           2099200   \n",
            "                                                                 \n",
            " dropout_1 (Dropout)         (None, 40, 512)           0         \n",
            "                                                                 \n",
            " lstm_2 (LSTM)               (None, 512)               2099200   \n",
            "                                                                 \n",
            " dense (Dense)               (None, 39)                20007     \n",
            "                                                                 \n",
            "=================================================================\n",
            "Total params: 6337575 (24.18 MB)\n",
            "Trainable params: 6337575 (24.18 MB)\n",
            "Non-trainable params: 0 (0.00 Byte)\n",
            "_________________________________________________________________\n"
          ]
        }
      ]
    },
    {
      "cell_type": "code",
      "source": [
        "epochs = 20  # Increased number of epochs\n",
        "batch_size = 64  # Adjust batch size\n",
        "\n",
        "model.fit(input_sequences, y, epochs=epochs, batch_size=batch_size)"
      ],
      "metadata": {
        "colab": {
          "base_uri": "https://localhost:8080/"
        },
        "id": "WnoVVJ25hc8l",
        "outputId": "288342f1-5a16-4d7e-b569-92276f749ef5"
      },
      "execution_count": 5,
      "outputs": [
        {
          "output_type": "stream",
          "name": "stdout",
          "text": [
            "Epoch 1/20\n",
            "3646/3646 [==============================] - 153s 40ms/step - loss: 2.0217\n",
            "Epoch 2/20\n",
            "3646/3646 [==============================] - 146s 40ms/step - loss: 1.5475\n",
            "Epoch 3/20\n",
            "3646/3646 [==============================] - 146s 40ms/step - loss: 1.4387\n",
            "Epoch 4/20\n",
            "3646/3646 [==============================] - 146s 40ms/step - loss: 1.3771\n",
            "Epoch 5/20\n",
            "3646/3646 [==============================] - 146s 40ms/step - loss: 1.3331\n",
            "Epoch 6/20\n",
            "3646/3646 [==============================] - 146s 40ms/step - loss: 1.3022\n",
            "Epoch 7/20\n",
            "3646/3646 [==============================] - 146s 40ms/step - loss: 1.2725\n",
            "Epoch 8/20\n",
            "3646/3646 [==============================] - 146s 40ms/step - loss: 1.2469\n",
            "Epoch 9/20\n",
            "3646/3646 [==============================] - 146s 40ms/step - loss: 1.2266\n",
            "Epoch 10/20\n",
            "3646/3646 [==============================] - 146s 40ms/step - loss: 1.2057\n",
            "Epoch 11/20\n",
            "3646/3646 [==============================] - 146s 40ms/step - loss: 1.1912\n",
            "Epoch 12/20\n",
            "3646/3646 [==============================] - 146s 40ms/step - loss: 1.1758\n",
            "Epoch 13/20\n",
            "3646/3646 [==============================] - 146s 40ms/step - loss: 1.1633\n",
            "Epoch 14/20\n",
            "3646/3646 [==============================] - 146s 40ms/step - loss: 1.1490\n",
            "Epoch 15/20\n",
            "3646/3646 [==============================] - 146s 40ms/step - loss: 1.1404\n",
            "Epoch 16/20\n",
            "3646/3646 [==============================] - 146s 40ms/step - loss: 1.1267\n",
            "Epoch 17/20\n",
            "3646/3646 [==============================] - 146s 40ms/step - loss: 1.1213\n",
            "Epoch 18/20\n",
            "3646/3646 [==============================] - 146s 40ms/step - loss: 1.1112\n",
            "Epoch 19/20\n",
            "3646/3646 [==============================] - 146s 40ms/step - loss: 1.1041\n",
            "Epoch 20/20\n",
            "3646/3646 [==============================] - 146s 40ms/step - loss: 1.0999\n"
          ]
        },
        {
          "output_type": "execute_result",
          "data": {
            "text/plain": [
              "<keras.src.callbacks.History at 0x7d1bb3ac31f0>"
            ]
          },
          "metadata": {},
          "execution_count": 5
        }
      ]
    },
    {
      "cell_type": "code",
      "source": [
        "# Text generation functions\n",
        "def sample(preds, temperature=0.2):\n",
        "    preds = np.asarray(preds).astype('float64')\n",
        "    preds = np.log(preds + 1e-8) / temperature  # Add small value to avoid log(0)\n",
        "    exp_preds = np.exp(preds)\n",
        "    preds = exp_preds / np.sum(exp_preds)\n",
        "    probas = np.random.multinomial(1, preds, 1)\n",
        "    return np.argmax(probas)\n",
        "\n",
        "def generate_text(model, tokenizer, seed_text, num_generate=100, temperature=0.2):\n",
        "    input_eval = tokenizer.texts_to_sequences([seed_text])\n",
        "    input_eval = pad_sequences(input_eval, maxlen=SEQ_LENGTH, padding='pre')\n",
        "\n",
        "    generated_text = seed_text\n",
        "\n",
        "    for _ in range(num_generate):\n",
        "        predictions = model.predict(input_eval, verbose=0)\n",
        "        predictions = predictions[0]\n",
        "\n",
        "        next_index = sample(predictions, temperature)\n",
        "        next_char = tokenizer.index_word[next_index]\n",
        "\n",
        "        generated_text += next_char\n",
        "\n",
        "        input_eval = tokenizer.texts_to_sequences([generated_text[-SEQ_LENGTH:]])\n",
        "        input_eval = pad_sequences(input_eval, maxlen=SEQ_LENGTH, padding='pre')\n",
        "\n",
        "    return generated_text\n",
        "\n",
        "# Example usage\n",
        "seed_text = \"shall i compare thee to a summer's day\"\n",
        "generated_text = generate_text(model, tokenizer, seed_text, num_generate=500, temperature=0.2)\n",
        "print(generated_text)"
      ],
      "metadata": {
        "id": "QlrCL4yJSE1j"
      },
      "execution_count": null,
      "outputs": []
    },
    {
      "cell_type": "code",
      "source": [
        "model.save('text_generation_model.h5')\n"
      ],
      "metadata": {
        "colab": {
          "base_uri": "https://localhost:8080/"
        },
        "id": "cQRa6gat0b4t",
        "outputId": "44668c9f-d1b7-4e3f-8f81-c936b23e90bf"
      },
      "execution_count": 8,
      "outputs": [
        {
          "output_type": "stream",
          "name": "stderr",
          "text": [
            "/usr/local/lib/python3.10/dist-packages/keras/src/engine/training.py:3103: UserWarning: You are saving your model as an HDF5 file via `model.save()`. This file format is considered legacy. We recommend using instead the native Keras format, e.g. `model.save('my_model.keras')`.\n",
            "  saving_api.save_model(\n"
          ]
        }
      ]
    }
  ]
}